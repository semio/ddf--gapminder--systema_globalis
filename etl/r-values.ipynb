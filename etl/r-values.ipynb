{
 "cells": [
  {
   "cell_type": "code",
   "execution_count": 1,
   "metadata": {
    "collapsed": true
   },
   "outputs": [],
   "source": [
    "import pandas as pd\n",
    "import numpy as np\n",
    "from ddf_utils import ddf_reader as dr"
   ]
  },
  {
   "cell_type": "code",
   "execution_count": 2,
   "metadata": {
    "collapsed": true
   },
   "outputs": [],
   "source": [
    "dr.config.DDF_SEARCH_PATH = '/Users/semio/src/work/Gapminder/'"
   ]
  },
  {
   "cell_type": "code",
   "execution_count": 3,
   "metadata": {
    "collapsed": true
   },
   "outputs": [],
   "source": [
    "old_dataset = dr.DDF('ddf--gapminder--gapminder_world')\n",
    "new_dataset = dr.DDF('ddf--gapminder--systema_globalis')\n",
    "wdi = dr.DDF('ddf--world_bank--world_development_indicators')"
   ]
  },
  {
   "cell_type": "code",
   "execution_count": 4,
   "metadata": {
    "collapsed": true
   },
   "outputs": [],
   "source": [
    "def get_comp_df(indicator):\n",
    "    '''get dataframes from old and new datasets, and combine them into one dataframe'''\n",
    "    gw = old_dataset.get_datapoint_df(indicator)\n",
    "    sg = new_dataset.get_datapoint_df(indicator)\n",
    "    gw = gw.rename(columns={indicator: 'gw'})\n",
    "    sg = sg.rename(columns={indicator: 'sg'})\n",
    "    comp = pd.concat([gw, sg], axis=1)\n",
    "    \n",
    "    return comp"
   ]
  },
  {
   "cell_type": "code",
   "execution_count": 5,
   "metadata": {
    "collapsed": true
   },
   "outputs": [],
   "source": [
    "def rval(indicator):\n",
    "    '''calculation of the R value, for more info see document of pandas.DataFrame.corr()'''\n",
    "    comp = get_comp_df(indicator)\n",
    "    return comp.corr().ix['gw', 'sg']"
   ]
  },
  {
   "cell_type": "code",
   "execution_count": 6,
   "metadata": {
    "collapsed": false
   },
   "outputs": [],
   "source": [
    "indicator = 'agricultural_land_percent_of_land_area'"
   ]
  },
  {
   "cell_type": "code",
   "execution_count": 7,
   "metadata": {
    "collapsed": false
   },
   "outputs": [
    {
     "data": {
      "text/html": [
       "<div>\n",
       "<table border=\"1\" class=\"dataframe\">\n",
       "  <thead>\n",
       "    <tr style=\"text-align: right;\">\n",
       "      <th></th>\n",
       "      <th></th>\n",
       "      <th>gw</th>\n",
       "      <th>sg</th>\n",
       "    </tr>\n",
       "    <tr>\n",
       "      <th>geo</th>\n",
       "      <th>time</th>\n",
       "      <th></th>\n",
       "      <th></th>\n",
       "    </tr>\n",
       "  </thead>\n",
       "  <tbody>\n",
       "    <tr>\n",
       "      <th rowspan=\"5\" valign=\"top\">abw</th>\n",
       "      <th>1961</th>\n",
       "      <td>11.11</td>\n",
       "      <td>11.11111</td>\n",
       "    </tr>\n",
       "    <tr>\n",
       "      <th>1962</th>\n",
       "      <td>11.11</td>\n",
       "      <td>11.11111</td>\n",
       "    </tr>\n",
       "    <tr>\n",
       "      <th>1963</th>\n",
       "      <td>11.11</td>\n",
       "      <td>11.11111</td>\n",
       "    </tr>\n",
       "    <tr>\n",
       "      <th>1964</th>\n",
       "      <td>11.11</td>\n",
       "      <td>11.11111</td>\n",
       "    </tr>\n",
       "    <tr>\n",
       "      <th>1965</th>\n",
       "      <td>11.11</td>\n",
       "      <td>11.11111</td>\n",
       "    </tr>\n",
       "  </tbody>\n",
       "</table>\n",
       "</div>"
      ],
      "text/plain": [
       "             gw        sg\n",
       "geo time                 \n",
       "abw 1961  11.11  11.11111\n",
       "    1962  11.11  11.11111\n",
       "    1963  11.11  11.11111\n",
       "    1964  11.11  11.11111\n",
       "    1965  11.11  11.11111"
      ]
     },
     "execution_count": 7,
     "metadata": {},
     "output_type": "execute_result"
    }
   ],
   "source": [
    "get_comp_df(indicator).head()"
   ]
  },
  {
   "cell_type": "code",
   "execution_count": 8,
   "metadata": {
    "collapsed": false
   },
   "outputs": [
    {
     "data": {
      "text/plain": [
       "0.99293955301907588"
      ]
     },
     "execution_count": 8,
     "metadata": {},
     "output_type": "execute_result"
    }
   ],
   "source": [
    "rval(indicator)  # the r value for `agricultural_land_percent_of_land_area`"
   ]
  },
  {
   "cell_type": "code",
   "execution_count": 10,
   "metadata": {
    "collapsed": true
   },
   "outputs": [],
   "source": [
    "# Here are all WDI indicators need to compare\n",
    "\n",
    "indicator_list = '''agricultural_land_percent_of_land_area\n",
    "agriculture_percent_of_gdp\n",
    "aid_received_per_person_current_us\n",
    "aid_received_percent_of_gni\n",
    "aid_received_total_us_inflation_adjusted\n",
    "alternative_gdp_per_capita_ppp_wb\n",
    "alternative_poverty_percent_below_nationally_defined_poverty\n",
    "armed_forces_personnel_percent_of_labor_force\n",
    "armed_forces_personnel_total\n",
    "arms_exports_us_inflation_adjusted\n",
    "arms_imports_us_inflation_adjusted\n",
    "births_attended_by_skilled_health_staff_percent_of_total\n",
    "broadband_subscribers\n",
    "broadband_subscribers_per_100_people\n",
    "cell_phones_per_100_people\n",
    "cell_phones_total\n",
    "children_out_of_school_primary\n",
    "children_out_of_school_primary_female\n",
    "children_out_of_school_primary_male\n",
    "co2_intensity_of_economic_output_kg_co2_per_2005_ppp_of_gdp\n",
    "contraceptive_use_percent_of_women_ages_15_49\n",
    "debt_servicing_costs_percent_of_exports_and_net_income_from_abroad\n",
    "debt_to_foreigners_by_public_and_private_percent_of_gni\n",
    "electricity_use_per_person\n",
    "electricity_use_total\n",
    "energy_use_per_person\n",
    "energy_use_total\n",
    "expenditure_per_student_primary_percent_of_gdp_per_person\n",
    "expenditure_per_student_secondary_percent_of_gdp_per_person\n",
    "expenditure_per_student_tertiary_percent_of_gdp_per_person\n",
    "exports_percent_of_gdp\n",
    "exports_unit_value_index_2000100\n",
    "external_debt_total_us_not_inflation_adjusted\n",
    "extreme_poverty_percent_people_below_125_a_day\n",
    "fixed_line_and_mobile_phone_subscribers_per_100_people\n",
    "foreign_direct_investment_net_inflows_percent_of_gdp\n",
    "foreign_direct_investment_net_outflows_percent_of_gdp\n",
    "forest_area_sq_km\n",
    "gdppercapita_growth_percent_per_year\n",
    "gdppercapita_us_inflation_adjusted\n",
    "gnipercapita_atlasmethod_current_us\n",
    "gnipercapita_constant_2000_us\n",
    "gnipercapita_ppp_current_international\n",
    "high_technology_exports_percent_of_manufactured_exports\n",
    "imports_percent_of_gdp\n",
    "imports_unit_value_index_2000100\n",
    "improved_sanitation_overall_access_percent\n",
    "improved_sanitation_rural_access_percent\n",
    "improved_sanitation_urban_access_percent\n",
    "improved_water_source_overall_access_percent\n",
    "improved_water_source_rural_access_percent\n",
    "improved_water_source_urban_access_percent\n",
    "income_share_of_2nd_poorest_20percent\n",
    "income_share_of_2nd_richest_20percent\n",
    "income_share_of_middle_20percent\n",
    "income_share_of_poorest_10percent\n",
    "income_share_of_poorest_20percent\n",
    "income_share_of_richest_10percent\n",
    "income_share_of_richest_20percent\n",
    "industry_percent_of_gdp\n",
    "inequality_index_gini\n",
    "inflation_annual_percent\n",
    "internet_users_per_100_people\n",
    "internet_users_total_number\n",
    "investments_percent_of_gdp\n",
    "malnutrition_weight_for_age_percent_of_children_under_5\n",
    "market_value_of_listed_companies_percent_of_gdp\n",
    "medical_doctors_per_1000_people\n",
    "merchandise_trade_percent_of_gdp\n",
    "military_expenditure_percent_of_gdp\n",
    "net_barter_terms_of_trade_2000_100\n",
    "population_growth_annual_percent\n",
    "population_in_urban_agglomerations_m_1_million_percent_of_total\n",
    "poverty_percent_people_below_2_a_day\n",
    "present_value_of_debt_percent_of_gni\n",
    "primary_completion_rate_total_percent_of_relevant_age_group\n",
    "primary_school_completion_percent_of_boys\n",
    "primary_school_completion_percent_of_girls\n",
    "pump_price_for_gasoline_us_per_liter\n",
    "ratio_of_girls_to_boys_in_primary_and_secondary_education_perc\n",
    "ratio_of_young_literate_females_to_males_percent_ages_15_24\n",
    "rural_poverty_percent_rural_people_below_national_rural\n",
    "services_percent_of_gdp\n",
    "surface_area_sq_km\n",
    "tax_revenue_percent_of_gdp\n",
    "total_gdp_us_inflation_adjusted\n",
    "total_gni_ppp_current_international\n",
    "total_reserves_percent_of_debt_to_foreigners\n",
    "trade_balance_percent_of_gdp\n",
    "trade_balance_us_not_inflation_adjusted\n",
    "urban_population\n",
    "urban_population_growth_annual_percent\n",
    "urban_population_percent_of_total\n",
    "urban_poverty_percent_urban_people_below_national_urban'''"
   ]
  },
  {
   "cell_type": "code",
   "execution_count": 12,
   "metadata": {
    "collapsed": false,
    "scrolled": true
   },
   "outputs": [],
   "source": [
    "# overall r value for each indicator\n",
    "\n",
    "rvalues = dict()\n",
    "\n",
    "for i in indicator_list.split('\\n'):\n",
    "    #print(rval(i))\n",
    "    rvalues[i] = rval(i)"
   ]
  },
  {
   "cell_type": "code",
   "execution_count": 14,
   "metadata": {
    "collapsed": false
   },
   "outputs": [
    {
     "data": {
      "text/html": [
       "<div>\n",
       "<table border=\"1\" class=\"dataframe\">\n",
       "  <thead>\n",
       "    <tr style=\"text-align: right;\">\n",
       "      <th></th>\n",
       "      <th>0</th>\n",
       "    </tr>\n",
       "  </thead>\n",
       "  <tbody>\n",
       "    <tr>\n",
       "      <th>foreign_direct_investment_net_inflows_percent_of_gdp</th>\n",
       "      <td>0.295232</td>\n",
       "    </tr>\n",
       "    <tr>\n",
       "      <th>urban_poverty_percent_urban_people_below_national_urban</th>\n",
       "      <td>0.376169</td>\n",
       "    </tr>\n",
       "    <tr>\n",
       "      <th>foreign_direct_investment_net_outflows_percent_of_gdp</th>\n",
       "      <td>0.399264</td>\n",
       "    </tr>\n",
       "    <tr>\n",
       "      <th>aid_received_percent_of_gni</th>\n",
       "      <td>0.539419</td>\n",
       "    </tr>\n",
       "    <tr>\n",
       "      <th>alternative_poverty_percent_below_nationally_defined_poverty</th>\n",
       "      <td>0.741762</td>\n",
       "    </tr>\n",
       "    <tr>\n",
       "      <th>improved_water_source_urban_access_percent</th>\n",
       "      <td>0.803657</td>\n",
       "    </tr>\n",
       "    <tr>\n",
       "      <th>urban_population_growth_annual_percent</th>\n",
       "      <td>0.819809</td>\n",
       "    </tr>\n",
       "    <tr>\n",
       "      <th>improved_water_source_overall_access_percent</th>\n",
       "      <td>0.835962</td>\n",
       "    </tr>\n",
       "    <tr>\n",
       "      <th>rural_poverty_percent_rural_people_below_national_rural</th>\n",
       "      <td>0.839788</td>\n",
       "    </tr>\n",
       "    <tr>\n",
       "      <th>income_share_of_2nd_richest_20percent</th>\n",
       "      <td>0.852210</td>\n",
       "    </tr>\n",
       "  </tbody>\n",
       "</table>\n",
       "</div>"
      ],
      "text/plain": [
       "                                                           0\n",
       "foreign_direct_investment_net_inflows_percent_o...  0.295232\n",
       "urban_poverty_percent_urban_people_below_nation...  0.376169\n",
       "foreign_direct_investment_net_outflows_percent_...  0.399264\n",
       "aid_received_percent_of_gni                         0.539419\n",
       "alternative_poverty_percent_below_nationally_de...  0.741762\n",
       "improved_water_source_urban_access_percent          0.803657\n",
       "urban_population_growth_annual_percent              0.819809\n",
       "improved_water_source_overall_access_percent        0.835962\n",
       "rural_poverty_percent_rural_people_below_nation...  0.839788\n",
       "income_share_of_2nd_richest_20percent               0.852210"
      ]
     },
     "execution_count": 14,
     "metadata": {},
     "output_type": "execute_result"
    }
   ],
   "source": [
    "pd.DataFrame.from_dict(rvalues, orient='index').sort_values(by=0).head(10)"
   ]
  },
  {
   "cell_type": "code",
   "execution_count": null,
   "metadata": {
    "collapsed": true
   },
   "outputs": [],
   "source": []
  },
  {
   "cell_type": "code",
   "execution_count": 15,
   "metadata": {
    "collapsed": true
   },
   "outputs": [],
   "source": [
    "# calculate per geo statistics"
   ]
  },
  {
   "cell_type": "code",
   "execution_count": 16,
   "metadata": {
    "collapsed": true
   },
   "outputs": [],
   "source": [
    "def per_geo_rval(indicator):\n",
    "    \"\"\"calculation per geo rvalues for an indicator\"\"\"\n",
    "    comp = get_comp_df(indicator)\n",
    "    res = comp.groupby(level=0).apply(lambda x: x.corr(min_periods=5).ix['gw', 'sg']).sort_index()\n",
    "    res.name = indicator\n",
    "    return res"
   ]
  },
  {
   "cell_type": "code",
   "execution_count": 17,
   "metadata": {
    "collapsed": false
   },
   "outputs": [],
   "source": [
    "# per geo rvalue\n",
    "res = []\n",
    "\n",
    "for i in indicator_list.split('\\n')[:-1]:\n",
    "    res.append(per_geo_rval(i))\n",
    "        \n",
    "result = pd.concat(res, axis=1)"
   ]
  },
  {
   "cell_type": "code",
   "execution_count": 18,
   "metadata": {
    "collapsed": true
   },
   "outputs": [],
   "source": [
    "result.to_csv('/Users/semio/Desktop/res.csv')"
   ]
  },
  {
   "cell_type": "code",
   "execution_count": null,
   "metadata": {
    "collapsed": true
   },
   "outputs": [],
   "source": []
  },
  {
   "cell_type": "code",
   "execution_count": null,
   "metadata": {
    "collapsed": true
   },
   "outputs": [],
   "source": []
  },
  {
   "cell_type": "code",
   "execution_count": 19,
   "metadata": {
    "collapsed": false
   },
   "outputs": [],
   "source": [
    "# overall r-values for each geo\n",
    "\n",
    "res = []\n",
    "\n",
    "for i in indicator_list.split('\\n')[:-1]:\n",
    "    comp = get_comp_df(i)\n",
    "    comp = comp.reset_index()\n",
    "    comp['indicator'] = i\n",
    "    comp = comp.set_index(['geo', 'time', 'indicator'])\n",
    "    res.append(comp)\n",
    "    \n",
    "all_indicators_df = pd.concat(res)"
   ]
  },
  {
   "cell_type": "code",
   "execution_count": 20,
   "metadata": {
    "collapsed": false
   },
   "outputs": [],
   "source": [
    "geo_rvals = all_indicators_df.groupby(level=0).apply(lambda x: x.corr().ix['gw', 'sg'])"
   ]
  },
  {
   "cell_type": "code",
   "execution_count": 22,
   "metadata": {
    "collapsed": false
   },
   "outputs": [
    {
     "data": {
      "text/plain": [
       "geo\n",
       "nru   -0.995431\n",
       "abw    0.593955\n",
       "vut    0.876868\n",
       "gnq    0.904568\n",
       "kir    0.905109\n",
       "cod    0.914236\n",
       "rus    0.916617\n",
       "zwe    0.920398\n",
       "zmb    0.920595\n",
       "nzl    0.925578\n",
       "dtype: float64"
      ]
     },
     "execution_count": 22,
     "metadata": {},
     "output_type": "execute_result"
    }
   ],
   "source": [
    "geo_rvals.sort_values().head(10)"
   ]
  },
  {
   "cell_type": "markdown",
   "metadata": {},
   "source": [
    "for the full result of above calculations, see https://docs.google.com/spreadsheets/d/1z6Qlmti2u-135ozclHeK9W7rZ5Rw0YGeI1fjcOPgl8E/edit#gid=945342426"
   ]
  },
  {
   "cell_type": "code",
   "execution_count": null,
   "metadata": {
    "collapsed": true
   },
   "outputs": [],
   "source": []
  },
  {
   "cell_type": "code",
   "execution_count": 23,
   "metadata": {
    "collapsed": true
   },
   "outputs": [],
   "source": [
    "# check some of the low r-value incators, see if there are wrong indicators imported."
   ]
  },
  {
   "cell_type": "code",
   "execution_count": 35,
   "metadata": {
    "collapsed": true
   },
   "outputs": [],
   "source": [
    "indicator = 'foreign_direct_investment_net_inflows_percent_of_gdp'\n",
    "indicator_wdi = 'bx_klt_dinv_wd_gd_zs'\n",
    "\n",
    "rv = per_geo_rval(indicator)\n",
    "comp = get_comp_df(indicator)\n",
    "comp['ptc_changes'] = (comp['sg'] - comp['gw']) / comp['gw'] * 100"
   ]
  },
  {
   "cell_type": "code",
   "execution_count": 36,
   "metadata": {
    "collapsed": false
   },
   "outputs": [
    {
     "data": {
      "text/plain": [
       "geo\n",
       "cyp    0.277886\n",
       "mhl    0.310042\n",
       "bfa    0.374770\n",
       "nam    0.412999\n",
       "gtm    0.422898\n",
       "nzl    0.444908\n",
       "kir    0.448741\n",
       "nld    0.513457\n",
       "mlt    0.576640\n",
       "irl    0.619157\n",
       "Name: foreign_direct_investment_net_inflows_percent_of_gdp, dtype: float64"
      ]
     },
     "execution_count": 36,
     "metadata": {},
     "output_type": "execute_result"
    }
   ],
   "source": [
    "rv.sort_values().head(10)"
   ]
  },
  {
   "cell_type": "code",
   "execution_count": 41,
   "metadata": {
    "collapsed": false
   },
   "outputs": [
    {
     "data": {
      "text/plain": [
       "geo\n",
       "syr    1.000000\n",
       "egy    1.000000\n",
       "ncl    1.000000\n",
       "bol    1.000000\n",
       "mng    0.999995\n",
       "ita    0.999981\n",
       "mus    0.999979\n",
       "bhs    0.999973\n",
       "tur    0.999960\n",
       "lao    0.999951\n",
       "Name: foreign_direct_investment_net_inflows_percent_of_gdp, dtype: float64"
      ]
     },
     "execution_count": 41,
     "metadata": {},
     "output_type": "execute_result"
    }
   ],
   "source": [
    "rv.sort_values(ascending=False).head(10)"
   ]
  },
  {
   "cell_type": "code",
   "execution_count": 42,
   "metadata": {
    "collapsed": false
   },
   "outputs": [
    {
     "data": {
      "text/plain": [
       "122"
      ]
     },
     "execution_count": 42,
     "metadata": {},
     "output_type": "execute_result"
    }
   ],
   "source": [
    "len(rv[rv > 0.9])"
   ]
  },
  {
   "cell_type": "code",
   "execution_count": 43,
   "metadata": {
    "collapsed": false
   },
   "outputs": [
    {
     "data": {
      "text/plain": [
       "23"
      ]
     },
     "execution_count": 43,
     "metadata": {},
     "output_type": "execute_result"
    }
   ],
   "source": [
    "len(rv[rv <= 0.9])"
   ]
  },
  {
   "cell_type": "code",
   "execution_count": null,
   "metadata": {
    "collapsed": true
   },
   "outputs": [],
   "source": [
    "# seems that only small part of datapoints have big changes. \n",
    "# I think the indicator mapping is correct.\n",
    "# now let's exam some of low r value geos"
   ]
  },
  {
   "cell_type": "code",
   "execution_count": 37,
   "metadata": {
    "collapsed": false
   },
   "outputs": [
    {
     "data": {
      "text/html": [
       "<div>\n",
       "<table border=\"1\" class=\"dataframe\">\n",
       "  <thead>\n",
       "    <tr style=\"text-align: right;\">\n",
       "      <th></th>\n",
       "      <th>gw</th>\n",
       "      <th>sg</th>\n",
       "      <th>ptc_changes</th>\n",
       "    </tr>\n",
       "    <tr>\n",
       "      <th>time</th>\n",
       "      <th></th>\n",
       "      <th></th>\n",
       "      <th></th>\n",
       "    </tr>\n",
       "  </thead>\n",
       "  <tbody>\n",
       "    <tr>\n",
       "      <th>1975</th>\n",
       "      <td>3.695</td>\n",
       "      <td>3.69454</td>\n",
       "      <td>-0.012449</td>\n",
       "    </tr>\n",
       "    <tr>\n",
       "      <th>1976</th>\n",
       "      <td>5.624</td>\n",
       "      <td>5.62410</td>\n",
       "      <td>0.001778</td>\n",
       "    </tr>\n",
       "    <tr>\n",
       "      <th>1977</th>\n",
       "      <td>5.635</td>\n",
       "      <td>5.63486</td>\n",
       "      <td>-0.002484</td>\n",
       "    </tr>\n",
       "    <tr>\n",
       "      <th>1978</th>\n",
       "      <td>5.915</td>\n",
       "      <td>5.91543</td>\n",
       "      <td>0.007270</td>\n",
       "    </tr>\n",
       "    <tr>\n",
       "      <th>1979</th>\n",
       "      <td>5.473</td>\n",
       "      <td>5.47320</td>\n",
       "      <td>0.003654</td>\n",
       "    </tr>\n",
       "    <tr>\n",
       "      <th>1980</th>\n",
       "      <td>3.944</td>\n",
       "      <td>3.94434</td>\n",
       "      <td>0.008621</td>\n",
       "    </tr>\n",
       "    <tr>\n",
       "      <th>1981</th>\n",
       "      <td>3.751</td>\n",
       "      <td>3.75113</td>\n",
       "      <td>0.003466</td>\n",
       "    </tr>\n",
       "    <tr>\n",
       "      <th>1982</th>\n",
       "      <td>3.312</td>\n",
       "      <td>3.31231</td>\n",
       "      <td>0.009360</td>\n",
       "    </tr>\n",
       "    <tr>\n",
       "      <th>1983</th>\n",
       "      <td>3.164</td>\n",
       "      <td>3.16418</td>\n",
       "      <td>0.005689</td>\n",
       "    </tr>\n",
       "    <tr>\n",
       "      <th>1984</th>\n",
       "      <td>2.313</td>\n",
       "      <td>2.31259</td>\n",
       "      <td>-0.017726</td>\n",
       "    </tr>\n",
       "    <tr>\n",
       "      <th>1985</th>\n",
       "      <td>2.385</td>\n",
       "      <td>2.38454</td>\n",
       "      <td>-0.019287</td>\n",
       "    </tr>\n",
       "    <tr>\n",
       "      <th>1986</th>\n",
       "      <td>1.499</td>\n",
       "      <td>1.49865</td>\n",
       "      <td>-0.023349</td>\n",
       "    </tr>\n",
       "    <tr>\n",
       "      <th>1987</th>\n",
       "      <td>1.403</td>\n",
       "      <td>1.40262</td>\n",
       "      <td>-0.027085</td>\n",
       "    </tr>\n",
       "    <tr>\n",
       "      <th>1988</th>\n",
       "      <td>1.452</td>\n",
       "      <td>1.45246</td>\n",
       "      <td>0.031680</td>\n",
       "    </tr>\n",
       "    <tr>\n",
       "      <th>1989</th>\n",
       "      <td>1.528</td>\n",
       "      <td>1.52843</td>\n",
       "      <td>0.028141</td>\n",
       "    </tr>\n",
       "    <tr>\n",
       "      <th>1990</th>\n",
       "      <td>2.265</td>\n",
       "      <td>2.26458</td>\n",
       "      <td>-0.018543</td>\n",
       "    </tr>\n",
       "    <tr>\n",
       "      <th>1991</th>\n",
       "      <td>1.418</td>\n",
       "      <td>1.41799</td>\n",
       "      <td>-0.000705</td>\n",
       "    </tr>\n",
       "    <tr>\n",
       "      <th>1992</th>\n",
       "      <td>1.554</td>\n",
       "      <td>1.55438</td>\n",
       "      <td>0.024453</td>\n",
       "    </tr>\n",
       "    <tr>\n",
       "      <th>1993</th>\n",
       "      <td>1.266</td>\n",
       "      <td>1.26600</td>\n",
       "      <td>0.000000</td>\n",
       "    </tr>\n",
       "    <tr>\n",
       "      <th>1994</th>\n",
       "      <td>1.012</td>\n",
       "      <td>1.01235</td>\n",
       "      <td>0.034585</td>\n",
       "    </tr>\n",
       "    <tr>\n",
       "      <th>1995</th>\n",
       "      <td>2.628</td>\n",
       "      <td>2.45225</td>\n",
       "      <td>-6.687595</td>\n",
       "    </tr>\n",
       "    <tr>\n",
       "      <th>1996</th>\n",
       "      <td>2.501</td>\n",
       "      <td>2.33997</td>\n",
       "      <td>-6.438625</td>\n",
       "    </tr>\n",
       "    <tr>\n",
       "      <th>1997</th>\n",
       "      <td>6.137</td>\n",
       "      <td>5.75009</td>\n",
       "      <td>-6.304546</td>\n",
       "    </tr>\n",
       "    <tr>\n",
       "      <th>1998</th>\n",
       "      <td>3.615</td>\n",
       "      <td>3.38295</td>\n",
       "      <td>-6.419087</td>\n",
       "    </tr>\n",
       "    <tr>\n",
       "      <th>1999</th>\n",
       "      <td>8.317</td>\n",
       "      <td>7.78522</td>\n",
       "      <td>-6.393892</td>\n",
       "    </tr>\n",
       "    <tr>\n",
       "      <th>2000</th>\n",
       "      <td>9.177</td>\n",
       "      <td>8.60932</td>\n",
       "      <td>-6.185900</td>\n",
       "    </tr>\n",
       "    <tr>\n",
       "      <th>2001</th>\n",
       "      <td>9.760</td>\n",
       "      <td>9.14653</td>\n",
       "      <td>-6.285553</td>\n",
       "    </tr>\n",
       "    <tr>\n",
       "      <th>2002</th>\n",
       "      <td>10.450</td>\n",
       "      <td>9.72566</td>\n",
       "      <td>-6.931483</td>\n",
       "    </tr>\n",
       "    <tr>\n",
       "      <th>2003</th>\n",
       "      <td>6.818</td>\n",
       "      <td>6.28683</td>\n",
       "      <td>-7.790701</td>\n",
       "    </tr>\n",
       "    <tr>\n",
       "      <th>2004</th>\n",
       "      <td>7.074</td>\n",
       "      <td>6.51830</td>\n",
       "      <td>-7.855527</td>\n",
       "    </tr>\n",
       "    <tr>\n",
       "      <th>2005</th>\n",
       "      <td>6.836</td>\n",
       "      <td>6.36000</td>\n",
       "      <td>-6.963136</td>\n",
       "    </tr>\n",
       "    <tr>\n",
       "      <th>2006</th>\n",
       "      <td>10.150</td>\n",
       "      <td>9.42470</td>\n",
       "      <td>-7.145813</td>\n",
       "    </tr>\n",
       "    <tr>\n",
       "      <th>2007</th>\n",
       "      <td>10.510</td>\n",
       "      <td>9.67891</td>\n",
       "      <td>-7.907612</td>\n",
       "    </tr>\n",
       "    <tr>\n",
       "      <th>2008</th>\n",
       "      <td>3.765</td>\n",
       "      <td>8.50379</td>\n",
       "      <td>125.864276</td>\n",
       "    </tr>\n",
       "    <tr>\n",
       "      <th>2009</th>\n",
       "      <td>14.890</td>\n",
       "      <td>11.05988</td>\n",
       "      <td>-25.722767</td>\n",
       "    </tr>\n",
       "    <tr>\n",
       "      <th>2010</th>\n",
       "      <td>8.153</td>\n",
       "      <td>142.41633</td>\n",
       "      <td>1646.796639</td>\n",
       "    </tr>\n",
       "    <tr>\n",
       "      <th>2011</th>\n",
       "      <td>NaN</td>\n",
       "      <td>-79.73696</td>\n",
       "      <td>NaN</td>\n",
       "    </tr>\n",
       "    <tr>\n",
       "      <th>2012</th>\n",
       "      <td>NaN</td>\n",
       "      <td>30.64798</td>\n",
       "      <td>NaN</td>\n",
       "    </tr>\n",
       "    <tr>\n",
       "      <th>2013</th>\n",
       "      <td>NaN</td>\n",
       "      <td>-52.53115</td>\n",
       "      <td>NaN</td>\n",
       "    </tr>\n",
       "    <tr>\n",
       "      <th>2014</th>\n",
       "      <td>NaN</td>\n",
       "      <td>4.68303</td>\n",
       "      <td>NaN</td>\n",
       "    </tr>\n",
       "    <tr>\n",
       "      <th>2015</th>\n",
       "      <td>NaN</td>\n",
       "      <td>27.13876</td>\n",
       "      <td>NaN</td>\n",
       "    </tr>\n",
       "  </tbody>\n",
       "</table>\n",
       "</div>"
      ],
      "text/plain": [
       "          gw         sg  ptc_changes\n",
       "time                                \n",
       "1975   3.695    3.69454    -0.012449\n",
       "1976   5.624    5.62410     0.001778\n",
       "1977   5.635    5.63486    -0.002484\n",
       "1978   5.915    5.91543     0.007270\n",
       "1979   5.473    5.47320     0.003654\n",
       "1980   3.944    3.94434     0.008621\n",
       "1981   3.751    3.75113     0.003466\n",
       "1982   3.312    3.31231     0.009360\n",
       "1983   3.164    3.16418     0.005689\n",
       "1984   2.313    2.31259    -0.017726\n",
       "1985   2.385    2.38454    -0.019287\n",
       "1986   1.499    1.49865    -0.023349\n",
       "1987   1.403    1.40262    -0.027085\n",
       "1988   1.452    1.45246     0.031680\n",
       "1989   1.528    1.52843     0.028141\n",
       "1990   2.265    2.26458    -0.018543\n",
       "1991   1.418    1.41799    -0.000705\n",
       "1992   1.554    1.55438     0.024453\n",
       "1993   1.266    1.26600     0.000000\n",
       "1994   1.012    1.01235     0.034585\n",
       "1995   2.628    2.45225    -6.687595\n",
       "1996   2.501    2.33997    -6.438625\n",
       "1997   6.137    5.75009    -6.304546\n",
       "1998   3.615    3.38295    -6.419087\n",
       "1999   8.317    7.78522    -6.393892\n",
       "2000   9.177    8.60932    -6.185900\n",
       "2001   9.760    9.14653    -6.285553\n",
       "2002  10.450    9.72566    -6.931483\n",
       "2003   6.818    6.28683    -7.790701\n",
       "2004   7.074    6.51830    -7.855527\n",
       "2005   6.836    6.36000    -6.963136\n",
       "2006  10.150    9.42470    -7.145813\n",
       "2007  10.510    9.67891    -7.907612\n",
       "2008   3.765    8.50379   125.864276\n",
       "2009  14.890   11.05988   -25.722767\n",
       "2010   8.153  142.41633  1646.796639\n",
       "2011     NaN  -79.73696          NaN\n",
       "2012     NaN   30.64798          NaN\n",
       "2013     NaN  -52.53115          NaN\n",
       "2014     NaN    4.68303          NaN\n",
       "2015     NaN   27.13876          NaN"
      ]
     },
     "execution_count": 37,
     "metadata": {},
     "output_type": "execute_result"
    }
   ],
   "source": [
    "comp.ix['cyp']"
   ]
  },
  {
   "cell_type": "code",
   "execution_count": 38,
   "metadata": {
    "collapsed": false
   },
   "outputs": [
    {
     "data": {
      "text/html": [
       "<div>\n",
       "<table border=\"1\" class=\"dataframe\">\n",
       "  <thead>\n",
       "    <tr style=\"text-align: right;\">\n",
       "      <th></th>\n",
       "      <th>gw</th>\n",
       "      <th>sg</th>\n",
       "      <th>ptc_changes</th>\n",
       "    </tr>\n",
       "    <tr>\n",
       "      <th>time</th>\n",
       "      <th></th>\n",
       "      <th></th>\n",
       "      <th></th>\n",
       "    </tr>\n",
       "  </thead>\n",
       "  <tbody>\n",
       "    <tr>\n",
       "      <th>1990</th>\n",
       "      <td>1.2740</td>\n",
       "      <td>0.00001</td>\n",
       "      <td>-99.999215</td>\n",
       "    </tr>\n",
       "    <tr>\n",
       "      <th>1991</th>\n",
       "      <td>1.2120</td>\n",
       "      <td>0.00001</td>\n",
       "      <td>-99.999175</td>\n",
       "    </tr>\n",
       "    <tr>\n",
       "      <th>1992</th>\n",
       "      <td>NaN</td>\n",
       "      <td>0.00001</td>\n",
       "      <td>NaN</td>\n",
       "    </tr>\n",
       "    <tr>\n",
       "      <th>1993</th>\n",
       "      <td>1.0050</td>\n",
       "      <td>0.00001</td>\n",
       "      <td>-99.999005</td>\n",
       "    </tr>\n",
       "    <tr>\n",
       "      <th>1994</th>\n",
       "      <td>-4.6270</td>\n",
       "      <td>0.00001</td>\n",
       "      <td>-100.000216</td>\n",
       "    </tr>\n",
       "    <tr>\n",
       "      <th>1995</th>\n",
       "      <td>-4.1590</td>\n",
       "      <td>0.00001</td>\n",
       "      <td>-100.000240</td>\n",
       "    </tr>\n",
       "    <tr>\n",
       "      <th>1996</th>\n",
       "      <td>-4.5100</td>\n",
       "      <td>0.00001</td>\n",
       "      <td>-100.000222</td>\n",
       "    </tr>\n",
       "    <tr>\n",
       "      <th>1997</th>\n",
       "      <td>-15.5800</td>\n",
       "      <td>0.00001</td>\n",
       "      <td>-100.000064</td>\n",
       "    </tr>\n",
       "    <tr>\n",
       "      <th>1998</th>\n",
       "      <td>-2.7410</td>\n",
       "      <td>0.00001</td>\n",
       "      <td>-100.000365</td>\n",
       "    </tr>\n",
       "    <tr>\n",
       "      <th>1999</th>\n",
       "      <td>90.2700</td>\n",
       "      <td>0.00001</td>\n",
       "      <td>-99.999989</td>\n",
       "    </tr>\n",
       "    <tr>\n",
       "      <th>2000</th>\n",
       "      <td>112.8000</td>\n",
       "      <td>113.38162</td>\n",
       "      <td>0.515621</td>\n",
       "    </tr>\n",
       "    <tr>\n",
       "      <th>2001</th>\n",
       "      <td>-0.7816</td>\n",
       "      <td>217.92039</td>\n",
       "      <td>-27981.319089</td>\n",
       "    </tr>\n",
       "    <tr>\n",
       "      <th>2002</th>\n",
       "      <td>-37.6200</td>\n",
       "      <td>-56.46447</td>\n",
       "      <td>50.091627</td>\n",
       "    </tr>\n",
       "    <tr>\n",
       "      <th>2003</th>\n",
       "      <td>3.6880</td>\n",
       "      <td>107.90969</td>\n",
       "      <td>2825.967733</td>\n",
       "    </tr>\n",
       "    <tr>\n",
       "      <th>2004</th>\n",
       "      <td>3.1270</td>\n",
       "      <td>2.63145</td>\n",
       "      <td>-15.847458</td>\n",
       "    </tr>\n",
       "    <tr>\n",
       "      <th>2005</th>\n",
       "      <td>4.7250</td>\n",
       "      <td>2.38095</td>\n",
       "      <td>-49.609524</td>\n",
       "    </tr>\n",
       "    <tr>\n",
       "      <th>2006</th>\n",
       "      <td>4.3250</td>\n",
       "      <td>1.30642</td>\n",
       "      <td>-69.793757</td>\n",
       "    </tr>\n",
       "    <tr>\n",
       "      <th>2007</th>\n",
       "      <td>8.1480</td>\n",
       "      <td>4.65598</td>\n",
       "      <td>-42.857388</td>\n",
       "    </tr>\n",
       "    <tr>\n",
       "      <th>2008</th>\n",
       "      <td>3.6050</td>\n",
       "      <td>3.72709</td>\n",
       "      <td>3.386685</td>\n",
       "    </tr>\n",
       "    <tr>\n",
       "      <th>2009</th>\n",
       "      <td>5.2560</td>\n",
       "      <td>9.62954</td>\n",
       "      <td>83.210426</td>\n",
       "    </tr>\n",
       "    <tr>\n",
       "      <th>2010</th>\n",
       "      <td>5.3120</td>\n",
       "      <td>-5.71215</td>\n",
       "      <td>-207.532944</td>\n",
       "    </tr>\n",
       "    <tr>\n",
       "      <th>2011</th>\n",
       "      <td>NaN</td>\n",
       "      <td>-2.53433</td>\n",
       "      <td>NaN</td>\n",
       "    </tr>\n",
       "    <tr>\n",
       "      <th>2012</th>\n",
       "      <td>NaN</td>\n",
       "      <td>11.58852</td>\n",
       "      <td>NaN</td>\n",
       "    </tr>\n",
       "    <tr>\n",
       "      <th>2013</th>\n",
       "      <td>NaN</td>\n",
       "      <td>17.11437</td>\n",
       "      <td>NaN</td>\n",
       "    </tr>\n",
       "    <tr>\n",
       "      <th>2014</th>\n",
       "      <td>NaN</td>\n",
       "      <td>4.84568</td>\n",
       "      <td>NaN</td>\n",
       "    </tr>\n",
       "  </tbody>\n",
       "</table>\n",
       "</div>"
      ],
      "text/plain": [
       "            gw         sg   ptc_changes\n",
       "time                                   \n",
       "1990    1.2740    0.00001    -99.999215\n",
       "1991    1.2120    0.00001    -99.999175\n",
       "1992       NaN    0.00001           NaN\n",
       "1993    1.0050    0.00001    -99.999005\n",
       "1994   -4.6270    0.00001   -100.000216\n",
       "1995   -4.1590    0.00001   -100.000240\n",
       "1996   -4.5100    0.00001   -100.000222\n",
       "1997  -15.5800    0.00001   -100.000064\n",
       "1998   -2.7410    0.00001   -100.000365\n",
       "1999   90.2700    0.00001    -99.999989\n",
       "2000  112.8000  113.38162      0.515621\n",
       "2001   -0.7816  217.92039 -27981.319089\n",
       "2002  -37.6200  -56.46447     50.091627\n",
       "2003    3.6880  107.90969   2825.967733\n",
       "2004    3.1270    2.63145    -15.847458\n",
       "2005    4.7250    2.38095    -49.609524\n",
       "2006    4.3250    1.30642    -69.793757\n",
       "2007    8.1480    4.65598    -42.857388\n",
       "2008    3.6050    3.72709      3.386685\n",
       "2009    5.2560    9.62954     83.210426\n",
       "2010    5.3120   -5.71215   -207.532944\n",
       "2011       NaN   -2.53433           NaN\n",
       "2012       NaN   11.58852           NaN\n",
       "2013       NaN   17.11437           NaN\n",
       "2014       NaN    4.84568           NaN"
      ]
     },
     "execution_count": 38,
     "metadata": {},
     "output_type": "execute_result"
    }
   ],
   "source": [
    "comp.ix['mhl']"
   ]
  },
  {
   "cell_type": "code",
   "execution_count": null,
   "metadata": {
    "collapsed": true
   },
   "outputs": [],
   "source": []
  },
  {
   "cell_type": "code",
   "execution_count": null,
   "metadata": {
    "collapsed": true
   },
   "outputs": [],
   "source": []
  },
  {
   "cell_type": "code",
   "execution_count": 44,
   "metadata": {
    "collapsed": true
   },
   "outputs": [],
   "source": [
    "indicator = 'aid_received_percent_of_gni'\n",
    "# indicator_wdi = 'bx_klt_dinv_wd_gd_zs'\n",
    "\n",
    "rv = per_geo_rval(indicator)\n",
    "comp = get_comp_df(indicator)\n",
    "comp['ptc_changes'] = (comp['sg'] - comp['gw']) / comp['gw'] * 100"
   ]
  },
  {
   "cell_type": "code",
   "execution_count": 53,
   "metadata": {
    "collapsed": false
   },
   "outputs": [
    {
     "data": {
      "text/plain": [
       "geo\n",
       "bra    0.997054\n",
       "chl    0.994951\n",
       "col    0.993834\n",
       "mex    0.993323\n",
       "chn    0.991999\n",
       "hkg    0.988566\n",
       "mlt    0.985283\n",
       "tto    0.983170\n",
       "tun    0.981990\n",
       "slv    0.981467\n",
       "Name: aid_received_percent_of_gni, dtype: float64"
      ]
     },
     "execution_count": 53,
     "metadata": {},
     "output_type": "execute_result"
    }
   ],
   "source": [
    "rv.sort_values(ascending=False).head(10)"
   ]
  },
  {
   "cell_type": "code",
   "execution_count": 54,
   "metadata": {
    "collapsed": false
   },
   "outputs": [
    {
     "data": {
      "text/plain": [
       "geo\n",
       "sle    0.071383\n",
       "gnb    0.160951\n",
       "geo    0.355393\n",
       "slb    0.447468\n",
       "bdi    0.502884\n",
       "zwe    0.510313\n",
       "gha    0.571945\n",
       "com    0.574398\n",
       "mar    0.577932\n",
       "ecu    0.590335\n",
       "Name: aid_received_percent_of_gni, dtype: float64"
      ]
     },
     "execution_count": 54,
     "metadata": {},
     "output_type": "execute_result"
    }
   ],
   "source": [
    "rv.sort_values().head(10)"
   ]
  },
  {
   "cell_type": "code",
   "execution_count": 47,
   "metadata": {
    "collapsed": false
   },
   "outputs": [
    {
     "data": {
      "text/plain": [
       "51"
      ]
     },
     "execution_count": 47,
     "metadata": {},
     "output_type": "execute_result"
    }
   ],
   "source": [
    "len(rv[rv <= 0.9])"
   ]
  },
  {
   "cell_type": "code",
   "execution_count": 48,
   "metadata": {
    "collapsed": false
   },
   "outputs": [
    {
     "data": {
      "text/plain": [
       "59"
      ]
     },
     "execution_count": 48,
     "metadata": {},
     "output_type": "execute_result"
    }
   ],
   "source": [
    "len(rv[rv > 0.9])"
   ]
  },
  {
   "cell_type": "code",
   "execution_count": 55,
   "metadata": {
    "collapsed": false
   },
   "outputs": [
    {
     "data": {
      "text/html": [
       "<div>\n",
       "<table border=\"1\" class=\"dataframe\">\n",
       "  <thead>\n",
       "    <tr style=\"text-align: right;\">\n",
       "      <th></th>\n",
       "      <th>gw</th>\n",
       "      <th>sg</th>\n",
       "      <th>ptc_changes</th>\n",
       "    </tr>\n",
       "    <tr>\n",
       "      <th>time</th>\n",
       "      <th></th>\n",
       "      <th></th>\n",
       "      <th></th>\n",
       "    </tr>\n",
       "  </thead>\n",
       "  <tbody>\n",
       "    <tr>\n",
       "      <th>1971</th>\n",
       "      <td>0.14010</td>\n",
       "      <td>0.50020</td>\n",
       "      <td>257.030692</td>\n",
       "    </tr>\n",
       "    <tr>\n",
       "      <th>1973</th>\n",
       "      <td>0.01119</td>\n",
       "      <td>0.05356</td>\n",
       "      <td>378.641644</td>\n",
       "    </tr>\n",
       "    <tr>\n",
       "      <th>1974</th>\n",
       "      <td>10.18000</td>\n",
       "      <td>60.56820</td>\n",
       "      <td>494.972495</td>\n",
       "    </tr>\n",
       "    <tr>\n",
       "      <th>1975</th>\n",
       "      <td>18.63000</td>\n",
       "      <td>123.71120</td>\n",
       "      <td>564.042941</td>\n",
       "    </tr>\n",
       "    <tr>\n",
       "      <th>1976</th>\n",
       "      <td>23.66000</td>\n",
       "      <td>135.99577</td>\n",
       "      <td>474.791927</td>\n",
       "    </tr>\n",
       "    <tr>\n",
       "      <th>1977</th>\n",
       "      <td>35.77000</td>\n",
       "      <td>171.70966</td>\n",
       "      <td>380.038188</td>\n",
       "    </tr>\n",
       "    <tr>\n",
       "      <th>1978</th>\n",
       "      <td>42.75000</td>\n",
       "      <td>186.41490</td>\n",
       "      <td>336.058246</td>\n",
       "    </tr>\n",
       "    <tr>\n",
       "      <th>1979</th>\n",
       "      <td>44.96000</td>\n",
       "      <td>202.93460</td>\n",
       "      <td>351.366993</td>\n",
       "    </tr>\n",
       "    <tr>\n",
       "      <th>1980</th>\n",
       "      <td>55.46000</td>\n",
       "      <td>186.31760</td>\n",
       "      <td>235.949513</td>\n",
       "    </tr>\n",
       "    <tr>\n",
       "      <th>1981</th>\n",
       "      <td>41.89000</td>\n",
       "      <td>160.95663</td>\n",
       "      <td>284.236405</td>\n",
       "    </tr>\n",
       "    <tr>\n",
       "      <th>1982</th>\n",
       "      <td>38.76000</td>\n",
       "      <td>135.17546</td>\n",
       "      <td>248.749897</td>\n",
       "    </tr>\n",
       "    <tr>\n",
       "      <th>1983</th>\n",
       "      <td>38.63000</td>\n",
       "      <td>170.03049</td>\n",
       "      <td>340.151411</td>\n",
       "    </tr>\n",
       "    <tr>\n",
       "      <th>1984</th>\n",
       "      <td>39.30000</td>\n",
       "      <td>104.11452</td>\n",
       "      <td>164.922443</td>\n",
       "    </tr>\n",
       "    <tr>\n",
       "      <th>1985</th>\n",
       "      <td>35.40000</td>\n",
       "      <td>111.83563</td>\n",
       "      <td>215.919859</td>\n",
       "    </tr>\n",
       "    <tr>\n",
       "      <th>1986</th>\n",
       "      <td>53.51000</td>\n",
       "      <td>223.62485</td>\n",
       "      <td>317.912259</td>\n",
       "    </tr>\n",
       "    <tr>\n",
       "      <th>1987</th>\n",
       "      <td>67.10000</td>\n",
       "      <td>181.44085</td>\n",
       "      <td>170.403651</td>\n",
       "    </tr>\n",
       "    <tr>\n",
       "      <th>1988</th>\n",
       "      <td>65.27000</td>\n",
       "      <td>137.14223</td>\n",
       "      <td>110.115260</td>\n",
       "    </tr>\n",
       "    <tr>\n",
       "      <th>1989</th>\n",
       "      <td>57.21000</td>\n",
       "      <td>138.28834</td>\n",
       "      <td>141.720573</td>\n",
       "    </tr>\n",
       "    <tr>\n",
       "      <th>1990</th>\n",
       "      <td>54.15000</td>\n",
       "      <td>173.06412</td>\n",
       "      <td>219.601330</td>\n",
       "    </tr>\n",
       "    <tr>\n",
       "      <th>1991</th>\n",
       "      <td>46.98000</td>\n",
       "      <td>141.57475</td>\n",
       "      <td>201.351107</td>\n",
       "    </tr>\n",
       "    <tr>\n",
       "      <th>1992</th>\n",
       "      <td>50.42000</td>\n",
       "      <td>97.96550</td>\n",
       "      <td>94.298889</td>\n",
       "    </tr>\n",
       "    <tr>\n",
       "      <th>1993</th>\n",
       "      <td>42.66000</td>\n",
       "      <td>129.32410</td>\n",
       "      <td>203.150727</td>\n",
       "    </tr>\n",
       "    <tr>\n",
       "      <th>1994</th>\n",
       "      <td>78.71000</td>\n",
       "      <td>339.90867</td>\n",
       "      <td>331.849409</td>\n",
       "    </tr>\n",
       "    <tr>\n",
       "      <th>1995</th>\n",
       "      <td>49.84000</td>\n",
       "      <td>207.63701</td>\n",
       "      <td>316.607163</td>\n",
       "    </tr>\n",
       "    <tr>\n",
       "      <th>1996</th>\n",
       "      <td>71.79000</td>\n",
       "      <td>289.98656</td>\n",
       "      <td>303.937261</td>\n",
       "    </tr>\n",
       "    <tr>\n",
       "      <th>1997</th>\n",
       "      <td>48.98000</td>\n",
       "      <td>192.93954</td>\n",
       "      <td>293.914945</td>\n",
       "    </tr>\n",
       "    <tr>\n",
       "      <th>1998</th>\n",
       "      <td>49.82000</td>\n",
       "      <td>409.49525</td>\n",
       "      <td>721.949518</td>\n",
       "    </tr>\n",
       "    <tr>\n",
       "      <th>1999</th>\n",
       "      <td>24.94000</td>\n",
       "      <td>139.01914</td>\n",
       "      <td>457.414354</td>\n",
       "    </tr>\n",
       "    <tr>\n",
       "      <th>2000</th>\n",
       "      <td>39.93000</td>\n",
       "      <td>489.81743</td>\n",
       "      <td>1126.690283</td>\n",
       "    </tr>\n",
       "    <tr>\n",
       "      <th>2001</th>\n",
       "      <td>33.16000</td>\n",
       "      <td>377.32408</td>\n",
       "      <td>1037.889264</td>\n",
       "    </tr>\n",
       "    <tr>\n",
       "      <th>2002</th>\n",
       "      <td>30.81000</td>\n",
       "      <td>257.49613</td>\n",
       "      <td>735.755047</td>\n",
       "    </tr>\n",
       "    <tr>\n",
       "      <th>2003</th>\n",
       "      <td>32.51000</td>\n",
       "      <td>486.20664</td>\n",
       "      <td>1395.560258</td>\n",
       "    </tr>\n",
       "    <tr>\n",
       "      <th>2004</th>\n",
       "      <td>14.91000</td>\n",
       "      <td>282.12641</td>\n",
       "      <td>1792.195909</td>\n",
       "    </tr>\n",
       "    <tr>\n",
       "      <th>2005</th>\n",
       "      <td>11.76000</td>\n",
       "      <td>242.87700</td>\n",
       "      <td>1965.280612</td>\n",
       "    </tr>\n",
       "    <tr>\n",
       "      <th>2006</th>\n",
       "      <td>15.19000</td>\n",
       "      <td>413.74208</td>\n",
       "      <td>2623.779329</td>\n",
       "    </tr>\n",
       "    <tr>\n",
       "      <th>2007</th>\n",
       "      <td>17.81000</td>\n",
       "      <td>222.64348</td>\n",
       "      <td>1150.103762</td>\n",
       "    </tr>\n",
       "    <tr>\n",
       "      <th>2008</th>\n",
       "      <td>16.05000</td>\n",
       "      <td>253.53986</td>\n",
       "      <td>1479.687601</td>\n",
       "    </tr>\n",
       "    <tr>\n",
       "      <th>2009</th>\n",
       "      <td>17.77000</td>\n",
       "      <td>293.25063</td>\n",
       "      <td>1550.256781</td>\n",
       "    </tr>\n",
       "    <tr>\n",
       "      <th>2010</th>\n",
       "      <td>16.70000</td>\n",
       "      <td>224.16531</td>\n",
       "      <td>1242.307246</td>\n",
       "    </tr>\n",
       "    <tr>\n",
       "      <th>2011</th>\n",
       "      <td>NaN</td>\n",
       "      <td>201.59088</td>\n",
       "      <td>NaN</td>\n",
       "    </tr>\n",
       "    <tr>\n",
       "      <th>2012</th>\n",
       "      <td>NaN</td>\n",
       "      <td>115.35032</td>\n",
       "      <td>NaN</td>\n",
       "    </tr>\n",
       "    <tr>\n",
       "      <th>2013</th>\n",
       "      <td>NaN</td>\n",
       "      <td>157.17507</td>\n",
       "      <td>NaN</td>\n",
       "    </tr>\n",
       "    <tr>\n",
       "      <th>2014</th>\n",
       "      <td>NaN</td>\n",
       "      <td>153.61343</td>\n",
       "      <td>NaN</td>\n",
       "    </tr>\n",
       "  </tbody>\n",
       "</table>\n",
       "</div>"
      ],
      "text/plain": [
       "            gw         sg  ptc_changes\n",
       "time                                  \n",
       "1971   0.14010    0.50020   257.030692\n",
       "1973   0.01119    0.05356   378.641644\n",
       "1974  10.18000   60.56820   494.972495\n",
       "1975  18.63000  123.71120   564.042941\n",
       "1976  23.66000  135.99577   474.791927\n",
       "1977  35.77000  171.70966   380.038188\n",
       "1978  42.75000  186.41490   336.058246\n",
       "1979  44.96000  202.93460   351.366993\n",
       "1980  55.46000  186.31760   235.949513\n",
       "1981  41.89000  160.95663   284.236405\n",
       "1982  38.76000  135.17546   248.749897\n",
       "1983  38.63000  170.03049   340.151411\n",
       "1984  39.30000  104.11452   164.922443\n",
       "1985  35.40000  111.83563   215.919859\n",
       "1986  53.51000  223.62485   317.912259\n",
       "1987  67.10000  181.44085   170.403651\n",
       "1988  65.27000  137.14223   110.115260\n",
       "1989  57.21000  138.28834   141.720573\n",
       "1990  54.15000  173.06412   219.601330\n",
       "1991  46.98000  141.57475   201.351107\n",
       "1992  50.42000   97.96550    94.298889\n",
       "1993  42.66000  129.32410   203.150727\n",
       "1994  78.71000  339.90867   331.849409\n",
       "1995  49.84000  207.63701   316.607163\n",
       "1996  71.79000  289.98656   303.937261\n",
       "1997  48.98000  192.93954   293.914945\n",
       "1998  49.82000  409.49525   721.949518\n",
       "1999  24.94000  139.01914   457.414354\n",
       "2000  39.93000  489.81743  1126.690283\n",
       "2001  33.16000  377.32408  1037.889264\n",
       "2002  30.81000  257.49613   735.755047\n",
       "2003  32.51000  486.20664  1395.560258\n",
       "2004  14.91000  282.12641  1792.195909\n",
       "2005  11.76000  242.87700  1965.280612\n",
       "2006  15.19000  413.74208  2623.779329\n",
       "2007  17.81000  222.64348  1150.103762\n",
       "2008  16.05000  253.53986  1479.687601\n",
       "2009  17.77000  293.25063  1550.256781\n",
       "2010  16.70000  224.16531  1242.307246\n",
       "2011       NaN  201.59088          NaN\n",
       "2012       NaN  115.35032          NaN\n",
       "2013       NaN  157.17507          NaN\n",
       "2014       NaN  153.61343          NaN"
      ]
     },
     "execution_count": 55,
     "metadata": {},
     "output_type": "execute_result"
    }
   ],
   "source": [
    "comp.ix['gnb']"
   ]
  },
  {
   "cell_type": "code",
   "execution_count": null,
   "metadata": {
    "collapsed": true
   },
   "outputs": [],
   "source": []
  },
  {
   "cell_type": "code",
   "execution_count": null,
   "metadata": {
    "collapsed": true
   },
   "outputs": [],
   "source": []
  },
  {
   "cell_type": "code",
   "execution_count": null,
   "metadata": {
    "collapsed": true
   },
   "outputs": [],
   "source": []
  },
  {
   "cell_type": "code",
   "execution_count": 34,
   "metadata": {
    "collapsed": true
   },
   "outputs": [],
   "source": [
    "# check if geo mapping is wrong in some low r-value cases"
   ]
  },
  {
   "cell_type": "code",
   "execution_count": 57,
   "metadata": {
    "collapsed": true
   },
   "outputs": [],
   "source": [
    "geo = dr.DDF('ddf--gapminder--geo_entity_domain')"
   ]
  },
  {
   "cell_type": "code",
   "execution_count": 58,
   "metadata": {
    "collapsed": true
   },
   "outputs": [],
   "source": [
    "geo_gap = geo.get_entities()['country']"
   ]
  },
  {
   "cell_type": "code",
   "execution_count": 59,
   "metadata": {
    "collapsed": false
   },
   "outputs": [
    {
     "data": {
      "text/plain": [
       "gwid                                     i93\n",
       "name                           Guinea-Bissau\n",
       "world_6region             sub_saharan_africa\n",
       "income_groups                     low_income\n",
       "landlocked                         coastline\n",
       "g77_and_oecd_countries                   g77\n",
       "main_religion_2008                       NaN\n",
       "gapminder_list                 Guinea-Bissau\n",
       "alternative_1                     GuineaBiss\n",
       "alternative_2                            NaN\n",
       "alternative_3                            NaN\n",
       "alternative_4_cdiac            Guinea Bissau\n",
       "pandg                          GUINEA-BISSAU\n",
       "god_id                                    GW\n",
       "alt_5                                    NaN\n",
       "upper_case_name                GUINEA-BISSAU\n",
       "iso3166_1_alpha2                          GW\n",
       "iso3166_1_alpha3                         GNB\n",
       "iso3166_1_numeric                        624\n",
       "iso3166_2                                NaN\n",
       "unicode_region_subtag                     GW\n",
       "arb1                                     NaN\n",
       "arb2                                     NaN\n",
       "arb3                                     NaN\n",
       "arb4                                     NaN\n",
       "arb5                                     NaN\n",
       "arb6                                     NaN\n",
       "is--country                             True\n",
       "world_4region                         africa\n",
       "latitude                                  12\n",
       "longitude                                -15\n",
       "Name: gnb, dtype: object"
      ]
     },
     "execution_count": 59,
     "metadata": {},
     "output_type": "execute_result"
    }
   ],
   "source": [
    "geo_gap.ix['gnb']"
   ]
  },
  {
   "cell_type": "code",
   "execution_count": 61,
   "metadata": {
    "collapsed": true
   },
   "outputs": [],
   "source": [
    "geo_wdi = wdi.get_entities()['country']"
   ]
  },
  {
   "cell_type": "code",
   "execution_count": 62,
   "metadata": {
    "collapsed": false,
    "scrolled": false
   },
   "outputs": [
    {
     "name": "stdout",
     "output_type": "stream",
     "text": [
      "gnb\n"
     ]
    }
   ],
   "source": [
    "for i, v in geo_wdi.iterrows():\n",
    "    if 'Guinea-Bissau' in v.values:\n",
    "        print(i)"
   ]
  },
  {
   "cell_type": "code",
   "execution_count": 63,
   "metadata": {
    "collapsed": false
   },
   "outputs": [
    {
     "data": {
      "text/plain": [
       "country_code                                                                                       GNB\n",
       "short_name                                                                               Guinea-Bissau\n",
       "table_name                                                                               Guinea-Bissau\n",
       "long_name                                                                    Republic of Guinea-Bissau\n",
       "2_alpha_code                                                                                        GW\n",
       "currency_unit                                                                   West African CFA franc\n",
       "special_notes                                        In 2010, national accounts data for 2003-09 we...\n",
       "region                                                                              Sub-Saharan Africa\n",
       "income_group                                                                                Low income\n",
       "wb_2_code                                                                                           GW\n",
       "national_accounts_base_year                                                                       2005\n",
       "national_accounts_reference_year                                                                   NaN\n",
       "sna_price_valuation                                                  Value added at basic prices (VAB)\n",
       "lending_category                                                                                   IDA\n",
       "other_groups                                                                                      HIPC\n",
       "system_of_national_accounts                          Country uses the 1993 System of National Accou...\n",
       "alternative_conversion_factor                                                                      NaN\n",
       "ppp_survey_year                                                                                   2011\n",
       "balance_of_payments_manual_in_use                         IMF Balance of Payments Manual, 6th edition.\n",
       "external_debt_reporting_status                                                                Estimate\n",
       "system_of_trade                                                                                    NaN\n",
       "government_accounting_concept                                                                      NaN\n",
       "imf_data_dissemination_standard                               General Data Dissemination System (GDDS)\n",
       "latest_population_census                                                                          2009\n",
       "latest_household_survey                                        Multiple Indicator Cluster Survey, 2014\n",
       "source_of_most_recent_income_and_expenditure_data    Core Welfare Indicator Questionnaire Survey (C...\n",
       "vital_registration_complete                                                                        NaN\n",
       "latest_agricultural_census                                                                         NaN\n",
       "latest_industrial_data                                                                             NaN\n",
       "latest_trade_data                                                                                 2005\n",
       "latest_water_withdrawal_data                                                                      2000\n",
       "Name: gnb, dtype: object"
      ]
     },
     "execution_count": 63,
     "metadata": {},
     "output_type": "execute_result"
    }
   ],
   "source": [
    "geo_wdi.ix['gnb']"
   ]
  },
  {
   "cell_type": "code",
   "execution_count": null,
   "metadata": {
    "collapsed": true
   },
   "outputs": [],
   "source": []
  },
  {
   "cell_type": "code",
   "execution_count": null,
   "metadata": {
    "collapsed": true
   },
   "outputs": [],
   "source": []
  }
 ],
 "metadata": {
  "kernelspec": {
   "display_name": "Python 3",
   "language": "python",
   "name": "python3"
  },
  "language_info": {
   "codemirror_mode": {
    "name": "ipython",
    "version": 3
   },
   "file_extension": ".py",
   "mimetype": "text/x-python",
   "name": "python",
   "nbconvert_exporter": "python",
   "pygments_lexer": "ipython3",
   "version": "3.5.2"
  }
 },
 "nbformat": 4,
 "nbformat_minor": 1
}
