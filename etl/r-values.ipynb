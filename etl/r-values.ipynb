{
 "cells": [
  {
   "cell_type": "code",
   "execution_count": 1,
   "metadata": {
    "collapsed": true
   },
   "outputs": [],
   "source": [
    "import pandas as pd\n",
    "import numpy as np\n",
    "from ddf_utils import ddf_reader as dr"
   ]
  },
  {
   "cell_type": "code",
   "execution_count": 2,
   "metadata": {
    "collapsed": true
   },
   "outputs": [],
   "source": [
    "dr.config.DDF_SEARCH_PATH = '/Users/semio/src/work/Gapminder/'"
   ]
  },
  {
   "cell_type": "code",
   "execution_count": 3,
   "metadata": {
    "collapsed": true
   },
   "outputs": [],
   "source": [
    "old_dataset = dr.DDF('ddf--gapminder--gapminder_world')\n",
    "new_dataset = dr.DDF('ddf--gapminder--systema_globalis')\n",
    "wdi = dr.DDF('ddf--world_bank--world_development_indicators')"
   ]
  },
  {
   "cell_type": "code",
   "execution_count": 4,
   "metadata": {
    "collapsed": true
   },
   "outputs": [],
   "source": [
    "def get_comp_df(indicator):\n",
    "    '''get dataframes from old and new datasets, and combine them into one dataframe'''\n",
    "    gw = old_dataset.get_datapoint_df(indicator)\n",
    "    sg = new_dataset.get_datapoint_df(indicator)\n",
    "    gw = gw.rename(columns={indicator: 'gw'})\n",
    "    sg = sg.rename(columns={indicator: 'sg'})\n",
    "    comp = pd.concat([gw, sg], axis=1)\n",
    "    \n",
    "    return comp"
   ]
  },
  {
   "cell_type": "code",
   "execution_count": 5,
   "metadata": {
    "collapsed": true
   },
   "outputs": [],
   "source": [
    "def rval(indicator):\n",
    "    '''calculation the R value'''\n",
    "    comp = get_comp_df(indicator)\n",
    "    return comp.corr().ix['gw', 'sg']"
   ]
  },
  {
   "cell_type": "code",
   "execution_count": 6,
   "metadata": {
    "collapsed": false
   },
   "outputs": [],
   "source": [
    "indicator = 'agricultural_land_percent_of_land_area'"
   ]
  },
  {
   "cell_type": "code",
   "execution_count": 7,
   "metadata": {
    "collapsed": false
   },
   "outputs": [
    {
     "data": {
      "text/html": [
       "<div>\n",
       "<table border=\"1\" class=\"dataframe\">\n",
       "  <thead>\n",
       "    <tr style=\"text-align: right;\">\n",
       "      <th></th>\n",
       "      <th></th>\n",
       "      <th>gw</th>\n",
       "      <th>sg</th>\n",
       "    </tr>\n",
       "    <tr>\n",
       "      <th>geo</th>\n",
       "      <th>time</th>\n",
       "      <th></th>\n",
       "      <th></th>\n",
       "    </tr>\n",
       "  </thead>\n",
       "  <tbody>\n",
       "    <tr>\n",
       "      <th rowspan=\"5\" valign=\"top\">abw</th>\n",
       "      <th>1961</th>\n",
       "      <td>11.11</td>\n",
       "      <td>11.11111</td>\n",
       "    </tr>\n",
       "    <tr>\n",
       "      <th>1962</th>\n",
       "      <td>11.11</td>\n",
       "      <td>11.11111</td>\n",
       "    </tr>\n",
       "    <tr>\n",
       "      <th>1963</th>\n",
       "      <td>11.11</td>\n",
       "      <td>11.11111</td>\n",
       "    </tr>\n",
       "    <tr>\n",
       "      <th>1964</th>\n",
       "      <td>11.11</td>\n",
       "      <td>11.11111</td>\n",
       "    </tr>\n",
       "    <tr>\n",
       "      <th>1965</th>\n",
       "      <td>11.11</td>\n",
       "      <td>11.11111</td>\n",
       "    </tr>\n",
       "  </tbody>\n",
       "</table>\n",
       "</div>"
      ],
      "text/plain": [
       "             gw        sg\n",
       "geo time                 \n",
       "abw 1961  11.11  11.11111\n",
       "    1962  11.11  11.11111\n",
       "    1963  11.11  11.11111\n",
       "    1964  11.11  11.11111\n",
       "    1965  11.11  11.11111"
      ]
     },
     "execution_count": 7,
     "metadata": {},
     "output_type": "execute_result"
    }
   ],
   "source": [
    "get_comp_df(indicator).head()"
   ]
  },
  {
   "cell_type": "code",
   "execution_count": 9,
   "metadata": {
    "collapsed": false
   },
   "outputs": [
    {
     "data": {
      "text/plain": [
       "0.99293955301907588"
      ]
     },
     "execution_count": 9,
     "metadata": {},
     "output_type": "execute_result"
    }
   ],
   "source": [
    "rval(indicator)  # the r value for `agricultural_land_percent_of_land_area`"
   ]
  },
  {
   "cell_type": "code",
   "execution_count": 10,
   "metadata": {
    "collapsed": true
   },
   "outputs": [],
   "source": [
    "# Here are all WDI indicators need to compare\n",
    "\n",
    "indicator_list = '''agricultural_land_percent_of_land_area\n",
    "agriculture_percent_of_gdp\n",
    "aid_received_per_person_current_us\n",
    "aid_received_percent_of_gni\n",
    "aid_received_total_us_inflation_adjusted\n",
    "alternative_gdp_per_capita_ppp_wb\n",
    "alternative_poverty_percent_below_nationally_defined_poverty\n",
    "armed_forces_personnel_percent_of_labor_force\n",
    "armed_forces_personnel_total\n",
    "arms_exports_us_inflation_adjusted\n",
    "arms_imports_us_inflation_adjusted\n",
    "births_attended_by_skilled_health_staff_percent_of_total\n",
    "broadband_subscribers\n",
    "broadband_subscribers_per_100_people\n",
    "cell_phones_per_100_people\n",
    "cell_phones_total\n",
    "children_out_of_school_primary\n",
    "children_out_of_school_primary_female\n",
    "children_out_of_school_primary_male\n",
    "co2_intensity_of_economic_output_kg_co2_per_2005_ppp_of_gdp\n",
    "contraceptive_use_percent_of_women_ages_15_49\n",
    "debt_servicing_costs_percent_of_exports_and_net_income_from_abroad\n",
    "debt_to_foreigners_by_public_and_private_percent_of_gni\n",
    "electricity_use_per_person\n",
    "electricity_use_total\n",
    "energy_use_per_person\n",
    "energy_use_total\n",
    "expenditure_per_student_primary_percent_of_gdp_per_person\n",
    "expenditure_per_student_secondary_percent_of_gdp_per_person\n",
    "expenditure_per_student_tertiary_percent_of_gdp_per_person\n",
    "exports_percent_of_gdp\n",
    "exports_unit_value_index_2000100\n",
    "external_debt_total_us_not_inflation_adjusted\n",
    "extreme_poverty_percent_people_below_125_a_day\n",
    "fixed_line_and_mobile_phone_subscribers_per_100_people\n",
    "foreign_direct_investment_net_inflows_percent_of_gdp\n",
    "foreign_direct_investment_net_outflows_percent_of_gdp\n",
    "forest_area_sq_km\n",
    "gdppercapita_growth_percent_per_year\n",
    "gdppercapita_us_inflation_adjusted\n",
    "gnipercapita_atlasmethod_current_us\n",
    "gnipercapita_constant_2000_us\n",
    "gnipercapita_ppp_current_international\n",
    "high_technology_exports_percent_of_manufactured_exports\n",
    "imports_percent_of_gdp\n",
    "imports_unit_value_index_2000100\n",
    "improved_sanitation_overall_access_percent\n",
    "improved_sanitation_rural_access_percent\n",
    "improved_sanitation_urban_access_percent\n",
    "improved_water_source_overall_access_percent\n",
    "improved_water_source_rural_access_percent\n",
    "improved_water_source_urban_access_percent\n",
    "income_share_of_2nd_poorest_20percent\n",
    "income_share_of_2nd_richest_20percent\n",
    "income_share_of_middle_20percent\n",
    "income_share_of_poorest_10percent\n",
    "income_share_of_poorest_20percent\n",
    "income_share_of_richest_10percent\n",
    "income_share_of_richest_20percent\n",
    "industry_percent_of_gdp\n",
    "inequality_index_gini\n",
    "inflation_annual_percent\n",
    "internet_users_per_100_people\n",
    "internet_users_total_number\n",
    "investments_percent_of_gdp\n",
    "malnutrition_weight_for_age_percent_of_children_under_5\n",
    "market_value_of_listed_companies_percent_of_gdp\n",
    "medical_doctors_per_1000_people\n",
    "merchandise_trade_percent_of_gdp\n",
    "military_expenditure_percent_of_gdp\n",
    "net_barter_terms_of_trade_2000_100\n",
    "population_growth_annual_percent\n",
    "population_in_urban_agglomerations_m_1_million_percent_of_total\n",
    "poverty_percent_people_below_2_a_day\n",
    "present_value_of_debt_percent_of_gni\n",
    "primary_completion_rate_total_percent_of_relevant_age_group\n",
    "primary_school_completion_percent_of_boys\n",
    "primary_school_completion_percent_of_girls\n",
    "pump_price_for_gasoline_us_per_liter\n",
    "ratio_of_girls_to_boys_in_primary_and_secondary_education_perc\n",
    "ratio_of_young_literate_females_to_males_percent_ages_15_24\n",
    "rural_poverty_percent_rural_people_below_national_rural\n",
    "services_percent_of_gdp\n",
    "surface_area_sq_km\n",
    "tax_revenue_percent_of_gdp\n",
    "total_gdp_us_inflation_adjusted\n",
    "total_gni_ppp_current_international\n",
    "total_reserves_percent_of_debt_to_foreigners\n",
    "trade_balance_percent_of_gdp\n",
    "trade_balance_us_not_inflation_adjusted\n",
    "urban_population\n",
    "urban_population_growth_annual_percent\n",
    "urban_population_percent_of_total\n",
    "urban_poverty_percent_urban_people_below_national_urban\n",
    "'''"
   ]
  },
  {
   "cell_type": "code",
   "execution_count": 11,
   "metadata": {
    "collapsed": false,
    "scrolled": true
   },
   "outputs": [],
   "source": [
    "# overall r value for each indicator\n",
    "\n",
    "rvalues = dict()\n",
    "\n",
    "for i in indicator_list.split('\\n')[:-1]:\n",
    "    #print(rval(i))\n",
    "    rvalues[i] = rval(i)"
   ]
  },
  {
   "cell_type": "code",
   "execution_count": 23,
   "metadata": {
    "collapsed": false
   },
   "outputs": [
    {
     "data": {
      "text/html": [
       "<div>\n",
       "<table border=\"1\" class=\"dataframe\">\n",
       "  <thead>\n",
       "    <tr style=\"text-align: right;\">\n",
       "      <th></th>\n",
       "      <th>0</th>\n",
       "    </tr>\n",
       "  </thead>\n",
       "  <tbody>\n",
       "    <tr>\n",
       "      <th>foreign_direct_investment_net_inflows_percent_of_gdp</th>\n",
       "      <td>0.295232</td>\n",
       "    </tr>\n",
       "    <tr>\n",
       "      <th>urban_poverty_percent_urban_people_below_national_urban</th>\n",
       "      <td>0.376169</td>\n",
       "    </tr>\n",
       "    <tr>\n",
       "      <th>foreign_direct_investment_net_outflows_percent_of_gdp</th>\n",
       "      <td>0.399264</td>\n",
       "    </tr>\n",
       "    <tr>\n",
       "      <th>aid_received_percent_of_gni</th>\n",
       "      <td>0.539419</td>\n",
       "    </tr>\n",
       "    <tr>\n",
       "      <th>alternative_poverty_percent_below_nationally_defined_poverty</th>\n",
       "      <td>0.741762</td>\n",
       "    </tr>\n",
       "  </tbody>\n",
       "</table>\n",
       "</div>"
      ],
      "text/plain": [
       "                                                           0\n",
       "foreign_direct_investment_net_inflows_percent_o...  0.295232\n",
       "urban_poverty_percent_urban_people_below_nation...  0.376169\n",
       "foreign_direct_investment_net_outflows_percent_...  0.399264\n",
       "aid_received_percent_of_gni                         0.539419\n",
       "alternative_poverty_percent_below_nationally_de...  0.741762"
      ]
     },
     "execution_count": 23,
     "metadata": {},
     "output_type": "execute_result"
    }
   ],
   "source": [
    "pd.DataFrame.from_dict(rvalues, orient='index').sort_values(by=0).head()"
   ]
  },
  {
   "cell_type": "code",
   "execution_count": null,
   "metadata": {
    "collapsed": true
   },
   "outputs": [],
   "source": []
  },
  {
   "cell_type": "code",
   "execution_count": 24,
   "metadata": {
    "collapsed": true
   },
   "outputs": [],
   "source": [
    "# calculate per geo statistics"
   ]
  },
  {
   "cell_type": "code",
   "execution_count": 26,
   "metadata": {
    "collapsed": true
   },
   "outputs": [],
   "source": [
    "def per_geo_rval(indicator):\n",
    "    comp = get_comp_df(indicator)\n",
    "    res = comp.groupby(level=0).apply(lambda x: x.corr(min_periods=5).ix['gw', 'sg']).sort_index()\n",
    "    res.name = indicator\n",
    "    return res"
   ]
  },
  {
   "cell_type": "code",
   "execution_count": 27,
   "metadata": {
    "collapsed": false
   },
   "outputs": [],
   "source": [
    "# per geo rvalue\n",
    "res = []\n",
    "\n",
    "for i in indicator_list.split('\\n')[:-1]:\n",
    "    res.append(per_geo_rval(i))\n",
    "        \n",
    "result = pd.concat(res, axis=1)"
   ]
  },
  {
   "cell_type": "code",
   "execution_count": 28,
   "metadata": {
    "collapsed": true
   },
   "outputs": [],
   "source": [
    "result.to_csv('/Users/semio/Desktop/res.csv')"
   ]
  },
  {
   "cell_type": "code",
   "execution_count": null,
   "metadata": {
    "collapsed": true
   },
   "outputs": [],
   "source": []
  },
  {
   "cell_type": "code",
   "execution_count": null,
   "metadata": {
    "collapsed": true
   },
   "outputs": [],
   "source": []
  },
  {
   "cell_type": "code",
   "execution_count": 61,
   "metadata": {
    "collapsed": false
   },
   "outputs": [],
   "source": [
    "# overall r-values for each geo\n",
    "\n",
    "res = []\n",
    "\n",
    "for i in indicator_list.split('\\n')[:-1]:\n",
    "    comp = get_comp_df(i)\n",
    "    comp = comp.reset_index()\n",
    "    comp['indicator'] = i\n",
    "    comp = comp.set_index(['geo', 'time', 'indicator'])\n",
    "    res.append(comp)\n",
    "    \n",
    "all_indicators_df = pd.concat(res)"
   ]
  },
  {
   "cell_type": "code",
   "execution_count": 68,
   "metadata": {
    "collapsed": false
   },
   "outputs": [],
   "source": [
    "geo_rvals = all_indicators_df.groupby(level=0).apply(lambda x: x.corr().ix['gw', 'sg'])"
   ]
  },
  {
   "cell_type": "code",
   "execution_count": 70,
   "metadata": {
    "collapsed": false
   },
   "outputs": [
    {
     "data": {
      "text/plain": [
       "geo\n",
       "nru   -0.995431\n",
       "abw    0.593955\n",
       "vut    0.876868\n",
       "gnq    0.904568\n",
       "kir    0.905109\n",
       "dtype: float64"
      ]
     },
     "execution_count": 70,
     "metadata": {},
     "output_type": "execute_result"
    }
   ],
   "source": [
    "geo_rvals.sort_values().head()"
   ]
  },
  {
   "cell_type": "markdown",
   "metadata": {},
   "source": [
    "for the result, see https://docs.google.com/spreadsheets/d/1z6Qlmti2u-135ozclHeK9W7rZ5Rw0YGeI1fjcOPgl8E/edit#gid=945342426"
   ]
  },
  {
   "cell_type": "code",
   "execution_count": null,
   "metadata": {
    "collapsed": true
   },
   "outputs": [],
   "source": []
  },
  {
   "cell_type": "code",
   "execution_count": 34,
   "metadata": {
    "collapsed": true
   },
   "outputs": [],
   "source": [
    "# check if geo mapping is wrong in some low r-value cases"
   ]
  },
  {
   "cell_type": "code",
   "execution_count": 35,
   "metadata": {
    "collapsed": true
   },
   "outputs": [],
   "source": [
    "geo = dr.DDF('ddf--gapminder--geo_entity_domain')"
   ]
  },
  {
   "cell_type": "code",
   "execution_count": 36,
   "metadata": {
    "collapsed": true
   },
   "outputs": [],
   "source": [
    "geo_gap = geo.get_entities()['country']"
   ]
  },
  {
   "cell_type": "code",
   "execution_count": 71,
   "metadata": {
    "collapsed": false
   },
   "outputs": [
    {
     "data": {
      "text/plain": [
       "gwid                              i12\n",
       "name                            Aruba\n",
       "world_6region                 america\n",
       "income_groups             high_income\n",
       "landlocked                  coastline\n",
       "g77_and_oecd_countries         others\n",
       "main_religion_2008          christian\n",
       "gapminder_list                  Aruba\n",
       "alternative_1                     NaN\n",
       "alternative_2                     NaN\n",
       "alternative_3                     NaN\n",
       "alternative_4_cdiac             Aruba\n",
       "pandg                             NaN\n",
       "god_id                             AW\n",
       "alt_5                             NaN\n",
       "upper_case_name                 ARUBA\n",
       "iso3166_1_alpha2                   AW\n",
       "iso3166_1_alpha3                  ABW\n",
       "iso3166_1_numeric                 533\n",
       "iso3166_2                         NaN\n",
       "unicode_region_subtag              AW\n",
       "arb1                              NaN\n",
       "arb2                              NaN\n",
       "arb3                              NaN\n",
       "arb4                              NaN\n",
       "arb5                              NaN\n",
       "arb6                              NaN\n",
       "is--country                      True\n",
       "world_4region                americas\n",
       "latitude                         12.5\n",
       "longitude                    -69.9667\n",
       "Name: abw, dtype: object"
      ]
     },
     "execution_count": 71,
     "metadata": {},
     "output_type": "execute_result"
    }
   ],
   "source": [
    "geo_gap.ix['abw']"
   ]
  },
  {
   "cell_type": "code",
   "execution_count": 38,
   "metadata": {
    "collapsed": true
   },
   "outputs": [],
   "source": [
    "geo_wdi = wdi.get_entities()['country']"
   ]
  },
  {
   "cell_type": "code",
   "execution_count": 72,
   "metadata": {
    "collapsed": false,
    "scrolled": false
   },
   "outputs": [
    {
     "name": "stdout",
     "output_type": "stream",
     "text": [
      "abw\n"
     ]
    }
   ],
   "source": [
    "for i, v in geo_wdi.iterrows():\n",
    "    if 'Aruba' in v.values:\n",
    "        print(i)"
   ]
  },
  {
   "cell_type": "code",
   "execution_count": 73,
   "metadata": {
    "collapsed": false
   },
   "outputs": [
    {
     "data": {
      "text/plain": [
       "country_code                                                                                       ABW\n",
       "short_name                                                                                       Aruba\n",
       "table_name                                                                                       Aruba\n",
       "long_name                                                                                        Aruba\n",
       "2_alpha_code                                                                                        AW\n",
       "currency_unit                                                                            Aruban florin\n",
       "special_notes                                        SNA data for 2000-2011 are updated from offici...\n",
       "region                                                                       Latin America & Caribbean\n",
       "income_group                                                                               High income\n",
       "wb_2_code                                                                                           AW\n",
       "national_accounts_base_year                                                                       2000\n",
       "national_accounts_reference_year                                                                   NaN\n",
       "sna_price_valuation                                                  Value added at basic prices (VAB)\n",
       "lending_category                                                                                   NaN\n",
       "other_groups                                                                                       NaN\n",
       "system_of_national_accounts                          Country uses the 1993 System of National Accou...\n",
       "alternative_conversion_factor                                                                      NaN\n",
       "ppp_survey_year                                                                                   2011\n",
       "balance_of_payments_manual_in_use                         IMF Balance of Payments Manual, 6th edition.\n",
       "external_debt_reporting_status                                                                     NaN\n",
       "system_of_trade                                                                   General trade system\n",
       "government_accounting_concept                                                                      NaN\n",
       "imf_data_dissemination_standard                                                                    NaN\n",
       "latest_population_census                                                                          2010\n",
       "latest_household_survey                                                                            NaN\n",
       "source_of_most_recent_income_and_expenditure_data                                                  NaN\n",
       "vital_registration_complete                                                                        Yes\n",
       "latest_agricultural_census                                                                         NaN\n",
       "latest_industrial_data                                                                             NaN\n",
       "latest_trade_data                                                                                 2014\n",
       "latest_water_withdrawal_data                                                                       NaN\n",
       "Name: abw, dtype: object"
      ]
     },
     "execution_count": 73,
     "metadata": {},
     "output_type": "execute_result"
    }
   ],
   "source": [
    "geo_wdi.ix['abw']"
   ]
  },
  {
   "cell_type": "code",
   "execution_count": null,
   "metadata": {
    "collapsed": true
   },
   "outputs": [],
   "source": []
  },
  {
   "cell_type": "code",
   "execution_count": null,
   "metadata": {
    "collapsed": true
   },
   "outputs": [],
   "source": []
  }
 ],
 "metadata": {
  "kernelspec": {
   "display_name": "Python 3",
   "language": "python",
   "name": "python3"
  },
  "language_info": {
   "codemirror_mode": {
    "name": "ipython",
    "version": 3
   },
   "file_extension": ".py",
   "mimetype": "text/x-python",
   "name": "python",
   "nbconvert_exporter": "python",
   "pygments_lexer": "ipython3",
   "version": "3.5.2"
  }
 },
 "nbformat": 4,
 "nbformat_minor": 1
}
